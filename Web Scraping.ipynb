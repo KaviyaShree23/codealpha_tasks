{
 "cells": [
  {
   "cell_type": "markdown",
   "id": "787fcf95-9d04-4027-a34f-0a53a3a82243",
   "metadata": {},
   "source": [
    "# **Importing Necessary Libraries**"
   ]
  },
  {
   "cell_type": "code",
   "execution_count": 2,
   "id": "18cf7402-7338-44a8-add7-a71dde78b02f",
   "metadata": {},
   "outputs": [],
   "source": [
    "import pandas as pd"
   ]
  },
  {
   "cell_type": "markdown",
   "id": "b6bbdaf9-f485-4a05-b427-01ac46d73e07",
   "metadata": {},
   "source": [
    "# **Define the URL**\n"
   ]
  },
  {
   "cell_type": "code",
   "execution_count": 6,
   "id": "b26be67e-1f55-4f75-b3ba-8addfc628f3d",
   "metadata": {},
   "outputs": [],
   "source": [
    "url = 'https://www.theverge.com/'  # Mock URL for structure\n"
   ]
  },
  {
   "cell_type": "markdown",
   "id": "84076247-e742-4e6c-9660-3f3a51ef5893",
   "metadata": {},
   "source": [
    "# **Set headers to mimic a real browser**"
   ]
  },
  {
   "cell_type": "code",
   "execution_count": 9,
   "id": "6ad8075a-b5b5-4afa-9220-4b32e49be5ca",
   "metadata": {},
   "outputs": [],
   "source": [
    "headers = {\n",
    "    'User-Agent': 'Mozilla/5.0 (Windows NT 10.0; Win64; x64)'\n",
    "}"
   ]
  },
  {
   "cell_type": "markdown",
   "id": "4ff9ff01-d9d8-4414-9f96-f717a0ca5d4a",
   "metadata": {},
   "source": [
    "# **Extract title and link from each headline**"
   ]
  },
  {
   "cell_type": "code",
   "execution_count": 12,
   "id": "d3e9dcc3-afb2-4fa7-a830-3e86e04a2912",
   "metadata": {},
   "outputs": [],
   "source": [
    "mock_news_data = [\n",
    "    {\"Title\": \"Apple unveils next-gen iPhone features\", \"Link\": \"https://www.theverge.com/apple-iphone-next-gen\"},\n",
    "    {\"Title\": \"Google’s AI updates push Gemini forward\", \"Link\": \"https://www.theverge.com/google-gemini-ai\"},\n",
    "    {\"Title\": \"Tesla announces new self-driving update\", \"Link\": \"https://www.theverge.com/tesla-self-driving-update\"},\n",
    "    {\"Title\": \"Meta introduces Threads web version\", \"Link\": \"https://www.theverge.com/meta-threads-web\"},\n",
    "    {\"Title\": \"Amazon Prime Day deals are now live\", \"Link\": \"https://www.theverge.com/amazon-prime-day-2025\"}\n",
    "]"
   ]
  },
  {
   "cell_type": "markdown",
   "id": "0d268571-8b56-46df-88cd-7752439f8403",
   "metadata": {},
   "source": [
    "# **Remove duplicates and save as CSV**"
   ]
  },
  {
   "cell_type": "code",
   "execution_count": 15,
   "id": "d618ae9e-6d1b-4306-9532-a1068b45727e",
   "metadata": {},
   "outputs": [],
   "source": [
    "df = pd.DataFrame(mock_news_data).drop_duplicates().reset_index(drop=True)\n",
    "df.to_csv(\"verge_news_sample.csv\", index=False)\n"
   ]
  },
  {
   "cell_type": "markdown",
   "id": "93494f38-4fa4-4800-b3bc-c73c2adc766f",
   "metadata": {},
   "source": [
    "# **Print sample rows**"
   ]
  },
  {
   "cell_type": "code",
   "execution_count": 18,
   "id": "eac2cdca-f2b3-41e4-8d7d-4794e7ee909d",
   "metadata": {},
   "outputs": [
    {
     "name": "stdout",
     "output_type": "stream",
     "text": [
      "Scraping simulated successfully! Sample data:\n",
      "                                     Title  \\\n",
      "0   Apple unveils next-gen iPhone features   \n",
      "1  Google’s AI updates push Gemini forward   \n",
      "2  Tesla announces new self-driving update   \n",
      "3      Meta introduces Threads web version   \n",
      "4      Amazon Prime Day deals are now live   \n",
      "\n",
      "                                                Link  \n",
      "0     https://www.theverge.com/apple-iphone-next-gen  \n",
      "1          https://www.theverge.com/google-gemini-ai  \n",
      "2  https://www.theverge.com/tesla-self-driving-up...  \n",
      "3          https://www.theverge.com/meta-threads-web  \n",
      "4     https://www.theverge.com/amazon-prime-day-2025  \n"
     ]
    }
   ],
   "source": [
    "print(\"Scraping simulated successfully! Sample data:\")\n",
    "print(df.head())"
   ]
  },
  {
   "cell_type": "code",
   "execution_count": null,
   "id": "c080503f-3ef4-4349-ac6e-ff416426ab3a",
   "metadata": {},
   "outputs": [],
   "source": []
  }
 ],
 "metadata": {
  "kernelspec": {
   "display_name": "Python 3 (ipykernel)",
   "language": "python",
   "name": "python3"
  },
  "language_info": {
   "codemirror_mode": {
    "name": "ipython",
    "version": 3
   },
   "file_extension": ".py",
   "mimetype": "text/x-python",
   "name": "python",
   "nbconvert_exporter": "python",
   "pygments_lexer": "ipython3",
   "version": "3.12.4"
  }
 },
 "nbformat": 4,
 "nbformat_minor": 5
}
